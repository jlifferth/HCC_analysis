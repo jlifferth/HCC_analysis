{
 "cells": [
  {
   "cell_type": "code",
   "execution_count": 1,
   "id": "1e0578bc",
   "metadata": {},
   "outputs": [],
   "source": [
    "import pandas as pd\n",
    "import numpy as np\n",
    "import matplotlib.pyplot as plt\n",
    "from matplotlib.pyplot import figure\n",
    "import seaborn as sns\n",
    "\n",
    "# determines aggregate mean speeds for 6 control and treated cell lines\n",
    "# retrieves track statistics for specific cell lines generates from trackmate results"
   ]
  },
  {
   "cell_type": "code",
   "execution_count": 2,
   "id": "a70ef86c",
   "metadata": {},
   "outputs": [],
   "source": [
    "# create function to retrieve track statistics for each inhibitor image series\n",
    "\n",
    "def get_src(target_cell_line, target_sub_series):\n",
    "    src_folder = '/Users/jonathanlifferth/Documents/Arbeit/Vanderbilt Research Analyst/' \\\n",
    "                'Naotoshi Nakamura/1_trackmate_results/_Inhibitors/'\n",
    "    cell_line = target_cell_line\n",
    "    sub_series = target_sub_series\n",
    "    src = src_folder + cell_line + '/' + sub_series + '/' + sub_series + ' Track statistics.csv'\n",
    "    return src"
   ]
  },
  {
   "cell_type": "code",
   "execution_count": 3,
   "id": "93db2449",
   "metadata": {},
   "outputs": [
    {
     "name": "stdout",
     "output_type": "stream",
     "text": [
      "\n",
      "total mean velocities \n",
      "\n",
      "JHH6_0uM_n1 : 8.849440273037542\n",
      "JHH6_0uM_n1 : 8.267199152542371\n",
      "JHH6_0uM_n1 : 8.369201923076922\n",
      "JHH6_0uM_n1 : 7.33877205882353\n"
     ]
    }
   ],
   "source": [
    "# call JHH6 0uM cell line\n",
    "JHH6_0uM_n1 = get_src(target_cell_line='JHH6 0uM', target_sub_series='JHH6 0uM n1')\n",
    "JHH6_0uM_n2 = get_src(target_cell_line='JHH6 0uM', target_sub_series='JHH6 0uM n2')\n",
    "JHH6_0uM_n3 = get_src(target_cell_line='JHH6 0uM', target_sub_series='JHH6 0uM n3')\n",
    "JHH6_0uM_n4 = get_src(target_cell_line='JHH6 0uM', target_sub_series='JHH6 0uM n4')\n",
    "\n",
    "# assign JHH6 0uM dataframes\n",
    "JHH6_0uM_n1_df = pd.read_csv(JHH6_0uM_n1)\n",
    "JHH6_0uM_n2_df = pd.read_csv(JHH6_0uM_n2)\n",
    "JHH6_0uM_n3_df = pd.read_csv(JHH6_0uM_n3)\n",
    "JHH6_0uM_n4_df = pd.read_csv(JHH6_0uM_n4)\n",
    "\n",
    "# calculate JHH6 0uM mean velocities\n",
    "JHH6_0uM_n1_total_mean = np.mean(JHH6_0uM_n1_df.TRACK_MEAN_SPEED)\n",
    "JHH6_0uM_n2_total_mean = np.mean(JHH6_0uM_n2_df.TRACK_MEAN_SPEED)\n",
    "JHH6_0uM_n3_total_mean = np.mean(JHH6_0uM_n3_df.TRACK_MEAN_SPEED)\n",
    "JHH6_0uM_n4_total_mean = np.mean(JHH6_0uM_n4_df.TRACK_MEAN_SPEED)\n",
    "\n",
    "# print JHH6 0uM mean velocities\n",
    "print('\\ntotal mean velocities \\n')\n",
    "print('JHH6_0uM_n1 : ' + str(JHH6_0uM_n1_total_mean))\n",
    "print('JHH6_0uM_n1 : ' + str(JHH6_0uM_n2_total_mean))\n",
    "print('JHH6_0uM_n1 : ' + str(JHH6_0uM_n3_total_mean))\n",
    "print('JHH6_0uM_n1 : ' + str(JHH6_0uM_n4_total_mean))"
   ]
  },
  {
   "cell_type": "code",
   "execution_count": 4,
   "id": "04f24d56",
   "metadata": {},
   "outputs": [
    {
     "name": "stdout",
     "output_type": "stream",
     "text": [
      "\n",
      "total mean velocities \n",
      "\n",
      "JHH6_1uM_n1 : 7.627585714285715\n",
      "JHH6_1uM_n1 : 7.627102564102564\n",
      "JHH6_1uM_n1 : 7.313272727272728\n",
      "JHH6_1uM_n1 : 8.371178260869566\n"
     ]
    }
   ],
   "source": [
    "# call JHH6 1uM cell line\n",
    "JHH6_1uM_n1 = get_src(target_cell_line='JHH6 1uM', target_sub_series='JHH6 1uM n1')\n",
    "JHH6_1uM_n2 = get_src(target_cell_line='JHH6 1uM', target_sub_series='JHH6 1uM n2')\n",
    "JHH6_1uM_n3 = get_src(target_cell_line='JHH6 1uM', target_sub_series='JHH6 1uM n3')\n",
    "JHH6_1uM_n4 = get_src(target_cell_line='JHH6 1uM', target_sub_series='JHH6 1uM n4')\n",
    "\n",
    "# assign JHH6 1uM dataframes\n",
    "JHH6_1uM_n1_df = pd.read_csv(JHH6_1uM_n1)\n",
    "JHH6_1uM_n2_df = pd.read_csv(JHH6_1uM_n2)\n",
    "JHH6_1uM_n3_df = pd.read_csv(JHH6_1uM_n3)\n",
    "JHH6_1uM_n4_df = pd.read_csv(JHH6_1uM_n4)\n",
    "\n",
    "# calculate JHH6 1uM mean velocities\n",
    "JHH6_1uM_n1_total_mean = np.mean(JHH6_1uM_n1_df.TRACK_MEAN_SPEED)\n",
    "JHH6_1uM_n2_total_mean = np.mean(JHH6_1uM_n2_df.TRACK_MEAN_SPEED)\n",
    "JHH6_1uM_n3_total_mean = np.mean(JHH6_1uM_n3_df.TRACK_MEAN_SPEED)\n",
    "JHH6_1uM_n4_total_mean = np.mean(JHH6_1uM_n4_df.TRACK_MEAN_SPEED)\n",
    "\n",
    "# print JHH6 1uM mean velocities\n",
    "print('\\ntotal mean velocities \\n')\n",
    "print('JHH6_1uM_n1 : ' + str(JHH6_1uM_n1_total_mean))\n",
    "print('JHH6_1uM_n1 : ' + str(JHH6_1uM_n2_total_mean))\n",
    "print('JHH6_1uM_n1 : ' + str(JHH6_1uM_n3_total_mean))\n",
    "print('JHH6_1uM_n1 : ' + str(JHH6_1uM_n4_total_mean))"
   ]
  },
  {
   "cell_type": "code",
   "execution_count": 9,
   "id": "e56bf450",
   "metadata": {},
   "outputs": [
    {
     "name": "stdout",
     "output_type": "stream",
     "text": [
      "\n",
      "total mean velocities \n",
      "\n",
      "JHH6_2o5uM_n1 : 6.876125954198473\n",
      "JHH6_2o5uM_n1 : 6.672451162790698\n",
      "JHH6_2o5uM_n1 : 6.374412742382272\n",
      "JHH6_2o5uM_n1 : 6.586686998394864\n"
     ]
    }
   ],
   "source": [
    "# call JHH6 2.5uM cell line\n",
    "JHH6_2o5uM_n1 = get_src(target_cell_line='JHH6 2.5uM', target_sub_series='JHH6 2.5uM n1')\n",
    "JHH6_2o5uM_n2 = get_src(target_cell_line='JHH6 2.5uM', target_sub_series='JHH6 2.5uM n2')\n",
    "JHH6_2o5uM_n3 = get_src(target_cell_line='JHH6 2.5uM', target_sub_series='JHH6 2.5uM n3')\n",
    "JHH6_2o5uM_n4 = get_src(target_cell_line='JHH6 2.5uM', target_sub_series='JHH6 2.5uM n4')\n",
    "\n",
    "# assign JHH6 2.5uM dataframes\n",
    "JHH6_2o5uM_n1_df = pd.read_csv(JHH6_2o5uM_n1)\n",
    "JHH6_2o5uM_n2_df = pd.read_csv(JHH6_2o5uM_n2)\n",
    "JHH6_2o5uM_n3_df = pd.read_csv(JHH6_2o5uM_n3)\n",
    "JHH6_2o5uM_n4_df = pd.read_csv(JHH6_2o5uM_n4)\n",
    "\n",
    "# calculate JHH6 2.5uM mean velocities\n",
    "JHH6_2o5uM_n1_total_mean = np.mean(JHH6_2o5uM_n1_df.TRACK_MEAN_SPEED)\n",
    "JHH6_2o5uM_n2_total_mean = np.mean(JHH6_2o5uM_n2_df.TRACK_MEAN_SPEED)\n",
    "JHH6_2o5uM_n3_total_mean = np.mean(JHH6_2o5uM_n3_df.TRACK_MEAN_SPEED)\n",
    "JHH6_2o5uM_n4_total_mean = np.mean(JHH6_2o5uM_n4_df.TRACK_MEAN_SPEED)\n",
    "\n",
    "# print JHH6 2.5uM mean velocities\n",
    "print('\\ntotal mean velocities \\n')\n",
    "print('JHH6_2o5uM_n1 : ' + str(JHH6_2o5uM_n1_total_mean))\n",
    "print('JHH6_2o5uM_n1 : ' + str(JHH6_2o5uM_n2_total_mean))\n",
    "print('JHH6_2o5uM_n1 : ' + str(JHH6_2o5uM_n3_total_mean))\n",
    "print('JHH6_2o5uM_n1 : ' + str(JHH6_2o5uM_n4_total_mean))"
   ]
  },
  {
   "cell_type": "code",
   "execution_count": 10,
   "id": "1def074f",
   "metadata": {},
   "outputs": [
    {
     "name": "stdout",
     "output_type": "stream",
     "text": [
      "\n",
      "total mean velocities \n",
      "\n",
      "JHH7_0uM_n1 : 4.453594594594595\n",
      "JHH7_0uM_n1 : 5.748244755244755\n",
      "JHH7_0uM_n1 : 6.347803921568627\n",
      "JHH7_0uM_n1 : 6.02511650485437\n"
     ]
    }
   ],
   "source": [
    "# call JHH7 0uM cell line\n",
    "JHH7_0uM_n1 = get_src(target_cell_line='JHH7 0uM', target_sub_series='JHH7 0uM n1')\n",
    "JHH7_0uM_n2 = get_src(target_cell_line='JHH7 0uM', target_sub_series='JHH7 0uM n2')\n",
    "JHH7_0uM_n3 = get_src(target_cell_line='JHH7 0uM', target_sub_series='JHH7 0uM n3')\n",
    "JHH7_0uM_n4 = get_src(target_cell_line='JHH7 0uM', target_sub_series='JHH7 0uM n4')\n",
    "\n",
    "# assign JHH7 0uM dataframes\n",
    "JHH7_0uM_n1_df = pd.read_csv(JHH7_0uM_n1)\n",
    "JHH7_0uM_n2_df = pd.read_csv(JHH7_0uM_n2)\n",
    "JHH7_0uM_n3_df = pd.read_csv(JHH7_0uM_n3)\n",
    "JHH7_0uM_n4_df = pd.read_csv(JHH7_0uM_n4)\n",
    "\n",
    "# calculate JHH7 0uM mean velocities\n",
    "JHH7_0uM_n1_total_mean = np.mean(JHH7_0uM_n1_df.TRACK_MEAN_SPEED)\n",
    "JHH7_0uM_n2_total_mean = np.mean(JHH7_0uM_n2_df.TRACK_MEAN_SPEED)\n",
    "JHH7_0uM_n3_total_mean = np.mean(JHH7_0uM_n3_df.TRACK_MEAN_SPEED)\n",
    "JHH7_0uM_n4_total_mean = np.mean(JHH7_0uM_n4_df.TRACK_MEAN_SPEED)\n",
    "\n",
    "# print JHH7 0uM mean velocities\n",
    "print('\\ntotal mean velocities \\n')\n",
    "print('JHH7_0uM_n1 : ' + str(JHH7_0uM_n1_total_mean))\n",
    "print('JHH7_0uM_n1 : ' + str(JHH7_0uM_n2_total_mean))\n",
    "print('JHH7_0uM_n1 : ' + str(JHH7_0uM_n3_total_mean))\n",
    "print('JHH7_0uM_n1 : ' + str(JHH7_0uM_n4_total_mean))"
   ]
  },
  {
   "cell_type": "code",
   "execution_count": 11,
   "id": "a925d415",
   "metadata": {},
   "outputs": [
    {
     "name": "stdout",
     "output_type": "stream",
     "text": [
      "\n",
      "total mean velocities \n",
      "\n",
      "JHH7_1uM_n1 : 3.7331333333333334\n",
      "JHH7_1uM_n1 : 6.716544217687074\n",
      "JHH7_1uM_n1 : 3.0025151515151514\n",
      "JHH7_1uM_n1 : 6.733173184357543\n"
     ]
    }
   ],
   "source": [
    "# call JHH7 1uM cell line\n",
    "JHH7_1uM_n1 = get_src(target_cell_line='JHH7 1uM', target_sub_series='JHH7 1uM n1')\n",
    "JHH7_1uM_n2 = get_src(target_cell_line='JHH7 1uM', target_sub_series='JHH7 1uM n2')\n",
    "JHH7_1uM_n3 = get_src(target_cell_line='JHH7 1uM', target_sub_series='JHH7 1uM n3')\n",
    "JHH7_1uM_n4 = get_src(target_cell_line='JHH7 1uM', target_sub_series='JHH7 1uM n4')\n",
    "\n",
    "# assign JHH7 1uM dataframes\n",
    "JHH7_1uM_n1_df = pd.read_csv(JHH7_1uM_n1)\n",
    "JHH7_1uM_n2_df = pd.read_csv(JHH7_1uM_n2)\n",
    "JHH7_1uM_n3_df = pd.read_csv(JHH7_1uM_n3)\n",
    "JHH7_1uM_n4_df = pd.read_csv(JHH7_1uM_n4)\n",
    "\n",
    "# calculate JHH7 1uM mean velocities\n",
    "JHH7_1uM_n1_total_mean = np.mean(JHH7_1uM_n1_df.TRACK_MEAN_SPEED)\n",
    "JHH7_1uM_n2_total_mean = np.mean(JHH7_1uM_n2_df.TRACK_MEAN_SPEED)\n",
    "JHH7_1uM_n3_total_mean = np.mean(JHH7_1uM_n3_df.TRACK_MEAN_SPEED)\n",
    "JHH7_1uM_n4_total_mean = np.mean(JHH7_1uM_n4_df.TRACK_MEAN_SPEED)\n",
    "\n",
    "# print JHH7 1uM mean velocities\n",
    "print('\\ntotal mean velocities \\n')\n",
    "print('JHH7_1uM_n1 : ' + str(JHH7_1uM_n1_total_mean))\n",
    "print('JHH7_1uM_n1 : ' + str(JHH7_1uM_n2_total_mean))\n",
    "print('JHH7_1uM_n1 : ' + str(JHH7_1uM_n3_total_mean))\n",
    "print('JHH7_1uM_n1 : ' + str(JHH7_1uM_n4_total_mean))"
   ]
  },
  {
   "cell_type": "code",
   "execution_count": 13,
   "id": "e9b1e90a",
   "metadata": {},
   "outputs": [
    {
     "name": "stdout",
     "output_type": "stream",
     "text": [
      "\n",
      "total mean velocities \n",
      "\n",
      "JHH7_2o5uM_n1 : 4.33167441860465\n",
      "JHH7_2o5uM_n1 : 3.646325581395349\n",
      "JHH7_2o5uM_n1 : 5.5252380952380955\n",
      "JHH7_2o5uM_n1 : 4.239745454545455\n"
     ]
    }
   ],
   "source": [
    "# call JHH7 2.5uM cell line\n",
    "JHH7_2o5uM_n1 = get_src(target_cell_line='JHH7 2.5uM', target_sub_series='JHH7 2.5uM n1')\n",
    "JHH7_2o5uM_n2 = get_src(target_cell_line='JHH7 2.5uM', target_sub_series='JHH7 2.5uM n2')\n",
    "JHH7_2o5uM_n3 = get_src(target_cell_line='JHH7 2.5uM', target_sub_series='JHH7 2.5uM n3')\n",
    "JHH7_2o5uM_n4 = get_src(target_cell_line='JHH7 2.5uM', target_sub_series='JHH7 2.5uM n4')\n",
    "\n",
    "# assign JHH7 2.5uM dataframes\n",
    "JHH7_2o5uM_n1_df = pd.read_csv(JHH7_2o5uM_n1)\n",
    "JHH7_2o5uM_n2_df = pd.read_csv(JHH7_2o5uM_n2)\n",
    "JHH7_2o5uM_n3_df = pd.read_csv(JHH7_2o5uM_n3)\n",
    "JHH7_2o5uM_n4_df = pd.read_csv(JHH7_2o5uM_n4)\n",
    "\n",
    "# calculate JHH7 2.5uM mean velocities\n",
    "JHH7_2o5uM_n1_total_mean = np.mean(JHH7_2o5uM_n1_df.TRACK_MEAN_SPEED)\n",
    "JHH7_2o5uM_n2_total_mean = np.mean(JHH7_2o5uM_n2_df.TRACK_MEAN_SPEED)\n",
    "JHH7_2o5uM_n3_total_mean = np.mean(JHH7_2o5uM_n3_df.TRACK_MEAN_SPEED)\n",
    "JHH7_2o5uM_n4_total_mean = np.mean(JHH7_2o5uM_n4_df.TRACK_MEAN_SPEED)\n",
    "\n",
    "# print JHH7 2.5uM mean velocities\n",
    "print('\\ntotal mean velocities \\n')\n",
    "print('JHH7_2o5uM_n1 : ' + str(JHH7_2o5uM_n1_total_mean))\n",
    "print('JHH7_2o5uM_n1 : ' + str(JHH7_2o5uM_n2_total_mean))\n",
    "print('JHH7_2o5uM_n1 : ' + str(JHH7_2o5uM_n3_total_mean))\n",
    "print('JHH7_2o5uM_n1 : ' + str(JHH7_2o5uM_n4_total_mean))"
   ]
  },
  {
   "cell_type": "code",
   "execution_count": 16,
   "id": "4019c409",
   "metadata": {},
   "outputs": [
    {
     "data": {
      "text/plain": [
       "<matplotlib.collections.PathCollection at 0x7ffd6465c7f0>"
      ]
     },
     "execution_count": 16,
     "metadata": {},
     "output_type": "execute_result"
    },
    {
     "data": {
      "image/png": "[encoded data removed]",
      "text/plain": [
       "<Figure size 1080x360 with 1 Axes>"
      ]
     },
     "metadata": {
      "needs_background": "light"
     },
     "output_type": "display_data"
    }
   ],
   "source": [
    "# create lists of cell image series and mean velocities to plot\n",
    "cell_list = ['JHH6 0uM n1', 'JHH6 0uM n2', 'JHH6 0uM n3', 'JHH6 0uM n4',\n",
    "             'JHH6 1uM n1', 'JHH6 1uM n2', 'JHH6 1uM n3', 'JHH6 1uM n4',\n",
    "             'JHH6 2.5uM n1', 'JHH6 2.5uM n2', 'JHH6 2.5uM n3', 'JHH6 2.5uM n4',\n",
    "             'JHH7 0uM n1', 'JHH7 0uM n2', 'JHH7 0uM n3', 'JHH7 0uM n4',\n",
    "             'JHH7 1uM n1', 'JHH7 1uM n2', 'JHH7 1uM n3', 'JHH7 1uM n4',\n",
    "             'JHH7 2.5uM n1', 'JHH7 2.5uM n2', 'JHH7 2.5uM n3', 'JHH7 2.5uM n4']\n",
    "\n",
    "velocity_list = [JHH6_0uM_n1_total_mean, JHH6_0uM_n2_total_mean, JHH6_0uM_n3_total_mean, JHH6_0uM_n4_total_mean,\n",
    "                JHH6_1uM_n1_total_mean, JHH6_1uM_n2_total_mean, JHH6_1uM_n3_total_mean, JHH6_1uM_n4_total_mean,\n",
    "                JHH6_2o5uM_n1_total_mean, JHH6_2o5uM_n2_total_mean, JHH6_2o5uM_n3_total_mean, JHH6_2o5uM_n4_total_mean,\n",
    "                JHH7_0uM_n1_total_mean, JHH7_0uM_n2_total_mean, JHH7_0uM_n3_total_mean, JHH7_0uM_n4_total_mean,\n",
    "                JHH7_1uM_n1_total_mean, JHH7_1uM_n2_total_mean, JHH7_1uM_n3_total_mean, JHH7_1uM_n4_total_mean,\n",
    "                JHH7_2o5uM_n1_total_mean, JHH7_2o5uM_n2_total_mean, JHH7_2o5uM_n3_total_mean, JHH7_2o5uM_n4_total_mean]\n",
    "\n",
    "combined_df = pd.DataFrame(list(zip(cell_list, velocity_list)), columns = ['cell_line', 'total_velocity'])\n",
    "# print(combined_df.cell_line)\n",
    "\n",
    "\n",
    "# plot combined df\n",
    "x = combined_df.cell_line\n",
    "y = combined_df.total_velocity\n",
    "plt.xticks(rotation = 65)\n",
    "axes = plt.gca()\n",
    "axes.set_ylim([0, 15])\n",
    "plt.title('Aggregate mean speed')\n",
    "plt.ylabel('pixels per track link')\n",
    "plt.xlabel('cell line')\n",
    "plt.rcParams[\"figure.figsize\"] = (15,5)\n",
    "plt.scatter(x, y)"
   ]
  }
 ],
 "metadata": {
  "kernelspec": {
   "display_name": "Python 3 (ipykernel)",
   "language": "python",
   "name": "python3"
  },
  "language_info": {
   "codemirror_mode": {
    "name": "ipython",
    "version": 3
   },
   "file_extension": ".py",
   "mimetype": "text/x-python",
   "name": "python",
   "nbconvert_exporter": "python",
   "pygments_lexer": "ipython3",
   "version": "3.9.6"
  }
 },
 "nbformat": 4,
 "nbformat_minor": 5
}
