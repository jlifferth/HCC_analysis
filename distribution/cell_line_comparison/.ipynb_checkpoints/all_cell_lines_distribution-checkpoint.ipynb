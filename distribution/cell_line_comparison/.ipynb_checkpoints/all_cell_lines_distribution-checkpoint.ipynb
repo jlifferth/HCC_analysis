{
 "cells": [
  {
   "cell_type": "code",
   "execution_count": 1,
   "id": "a8b2a923",
   "metadata": {},
   "outputs": [],
   "source": [
    "cell_lines = ['PRF5_B3_pickup', 'PRF5_A3', 'PRF5_C3', 'PRF5_D3', 'JHH4_B2',\n",
    "       'JHH4_A2', 'JHH6_A1', 'JHH6_B1', 'JHH6_D1', 'JHH6_C1_pickup',\n",
    "       'JHH7_C5', 'JHH7_D5', 'JHH7_A5', 'JHH7_B5_pickup', 'JHH7_2.5uM_n2',\n",
    "       'JHH7_2.5uM_n3', 'JHH7_2.5uM_n4', 'JHH7_2.5uM_n1', 'JHH6_2.5uM_n2',\n",
    "       'JHH6_2.5uM_n3', 'JHH6_2.5uM_n4', 'JHH6_2.5uM_n1', 'JHH7_0uM_n1',\n",
    "       'JHH7_0uM_n4', 'JHH7_0uM_n3', 'JHH7_0uM_n2', 'JHH6_0uM_n2',\n",
    "       'JHH6_0uM_n3', 'JHH6_0uM_n4', 'JHH6_0uM_n1', 'JHH7_1uM_n1',\n",
    "       'JHH7_1uM_n2', 'JHH7_1uM_n3', 'JHH7_1uM_n4', 'JHH6_1uM_n4',\n",
    "       'JHH6_1uM_n3', 'JHH6_1uM_n2', 'JHH6_1uM_n1', 'Huh7_B4_Pickup',\n",
    "       'Huh7_A4', 'Huh7_C4', 'Huh7_D4', 'Kami41_A6', 'Kami41_C6',\n",
    "       'Kami41_D6', 'Kami41_B6_pickup']"
   ]
  }
 ],
 "metadata": {
  "kernelspec": {
   "display_name": "Python 3 (ipykernel)",
   "language": "python",
   "name": "python3"
  },
  "language_info": {
   "codemirror_mode": {
    "name": "ipython",
    "version": 3
   },
   "file_extension": ".py",
   "mimetype": "text/x-python",
   "name": "python",
   "nbconvert_exporter": "python",
   "pygments_lexer": "ipython3",
   "version": "3.9.6"
  }
 },
 "nbformat": 4,
 "nbformat_minor": 5
}
