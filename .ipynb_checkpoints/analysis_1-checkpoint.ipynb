{
 "cells": [
  {
   "cell_type": "code",
   "execution_count": 2,
   "id": "ce657e8f",
   "metadata": {},
   "outputs": [],
   "source": [
    "import pandas as pd\n",
    "import numpy as np\n",
    "import matplotlib.pyplot as plt\n",
    "from matplotlib.pyplot import figure\n",
    "import seaborn as sns\n",
    "\n",
    "# this script is identical to analysis_0, but in Jupyter Notebook format\n",
    "# retrieves track statistics for specific cell lines generates from trackmate results"
   ]
  },
  {
   "cell_type": "code",
   "execution_count": 3,
   "id": "62499a92",
   "metadata": {},
   "outputs": [],
   "source": [
    "# create function to retrieve track statistics for each image series\n",
    "\n",
    "def get_src(target_cell_line, target_sub_series):\n",
    "    src_folder = '/Users/jonathanlifferth/Documents/Arbeit/Vanderbilt Research Analyst/' \\\n",
    "                'Naotoshi Nakamura/1_trackmate_results/'\n",
    "    cell_line = target_cell_line\n",
    "    sub_series = target_sub_series\n",
    "    src = src_folder + cell_line + '/' + sub_series + '/' + sub_series + ' Track statistics.csv'\n",
    "    return src"
   ]
  },
  {
   "cell_type": "code",
   "execution_count": 4,
   "id": "daf4033b",
   "metadata": {},
   "outputs": [
    {
     "name": "stdout",
     "output_type": "stream",
     "text": [
      "\n",
      "total mean velocities \n",
      "\n",
      "JHH4_A2 : 5.537648148148149\n",
      "JHH4_B2 : 7.155658064516128\n",
      "JHH4_C2 Pickup : 10.116077922077922\n",
      "JHH4_D2 : 4.923202380952381\n"
     ]
    }
   ],
   "source": [
    "# call JHH4 cell line\n",
    "JHH4_A2 = get_src(target_cell_line='JHH4', target_sub_series='JHH4 A2')\n",
    "JHH4_B2 = get_src(target_cell_line='JHH4', target_sub_series='JHH4 B2')\n",
    "JHH4_C2_Pickup = get_src(target_cell_line='JHH4', target_sub_series='JHH4 C2 Pickup')\n",
    "JHH4_D2 = get_src(target_cell_line='JHH4', target_sub_series='JHH4 D2')\n",
    "\n",
    "# assign JHH4 dataframes\n",
    "JHH4_A2_df = pd.read_csv(JHH4_A2)\n",
    "JHH4_B2_df = pd.read_csv(JHH4_B2)\n",
    "JHH4_C2_Pickup_df = pd.read_csv(JHH4_C2_Pickup)\n",
    "JHH4_D2_df = pd.read_csv(JHH4_D2)\n",
    "\n",
    "# calculate JHH4 mean velocities\n",
    "JHH4_A2_total_mean = np.mean(JHH4_A2_df.TRACK_MEAN_SPEED)\n",
    "JHH4_B2_total_mean = np.mean(JHH4_B2_df.TRACK_MEAN_SPEED)\n",
    "JHH4_C2_Pickup_total_mean = np.mean(JHH4_C2_Pickup_df.TRACK_MEAN_SPEED)\n",
    "JHH4_D2_total_mean = np.mean(JHH4_D2_df.TRACK_MEAN_SPEED)\n",
    "\n",
    "# print JHH4 mean velocities\n",
    "print('\\ntotal mean velocities \\n')\n",
    "print('JHH4_A2 : ' + str(JHH4_A2_total_mean))\n",
    "print('JHH4_B2 : ' + str(JHH4_B2_total_mean))\n",
    "print('JHH4_C2 Pickup : ' + str(JHH4_C2_Pickup_total_mean))\n",
    "print('JHH4_D2 : ' + str(JHH4_D2_total_mean))"
   ]
  },
  {
   "cell_type": "code",
   "execution_count": 5,
   "id": "595e1366",
   "metadata": {},
   "outputs": [
    {
     "name": "stdout",
     "output_type": "stream",
     "text": [
      "\n",
      "total mean velocities \n",
      "\n",
      "JHH6_A1 : 7.430689320388351\n",
      "JHH6_B1 : 8.079620689655172\n",
      "JHH6_C1 Pickup : 7.048433628318584\n",
      "JHH6_D1 : 7.804188481675392\n"
     ]
    }
   ],
   "source": [
    "# call JHH6 cell line\n",
    "JHH6_A1 = get_src(target_cell_line='JHH6', target_sub_series='JHH6 A1')\n",
    "JHH6_B1 = get_src(target_cell_line='JHH6', target_sub_series='JHH6 B1')\n",
    "JHH6_C1_Pickup = get_src(target_cell_line='JHH6', target_sub_series='JHH6 C1 Pickup')\n",
    "JHH6_D1 = get_src(target_cell_line='JHH6', target_sub_series='JHH6 D1')\n",
    "\n",
    "# assign JHH6 dataframes\n",
    "JHH6_A1_df = pd.read_csv(JHH6_A1)\n",
    "JHH6_B1_df = pd.read_csv(JHH6_B1)\n",
    "JHH6_C1_Pickup_df = pd.read_csv(JHH6_C1_Pickup)\n",
    "JHH6_D1_df = pd.read_csv(JHH6_D1)\n",
    "\n",
    "# calculate JHH6 mean velocities\n",
    "JHH6_A1_total_mean = np.mean(JHH6_A1_df.TRACK_MEAN_SPEED)\n",
    "JHH6_B1_total_mean = np.mean(JHH6_B1_df.TRACK_MEAN_SPEED)\n",
    "JHH6_C1_Pickup_total_mean = np.mean(JHH6_C1_Pickup_df.TRACK_MEAN_SPEED)\n",
    "JHH6_D1_total_mean = np.mean(JHH6_D1_df.TRACK_MEAN_SPEED)\n",
    "\n",
    "# print JHH6 mean velocities\n",
    "print('\\ntotal mean velocities \\n')\n",
    "print('JHH6_A1 : ' + str(JHH6_A1_total_mean))\n",
    "print('JHH6_B1 : ' + str(JHH6_B1_total_mean))\n",
    "print('JHH6_C1 Pickup : ' + str(JHH6_C1_Pickup_total_mean))\n",
    "print('JHH6_D1 : ' + str(JHH6_D1_total_mean))"
   ]
  },
  {
   "cell_type": "code",
   "execution_count": 6,
   "id": "d0ec99e5",
   "metadata": {},
   "outputs": [
    {
     "name": "stdout",
     "output_type": "stream",
     "text": [
      "\n",
      "total mean velocities \n",
      "\n",
      "JHH7_A5 : 6.832032894736843\n",
      "JHH7_B5_pickup : 6.2932852459016395\n",
      "JHH7_C5 : 5.428014705882354\n",
      "JHH7_D5 : 6.856613756613757\n"
     ]
    }
   ],
   "source": [
    "# call JHH7 cell line\n",
    "JHH7_A5 = get_src(target_cell_line='JHH7', target_sub_series='JHH7 A5')\n",
    "JHH7_B5_pickup = get_src(target_cell_line='JHH7', target_sub_series='JHH7 B5 pickup')\n",
    "JHH7_C5 = get_src(target_cell_line='JHH7', target_sub_series='JHH7 C5')\n",
    "JHH7_D5 = get_src(target_cell_line='JHH7', target_sub_series='JHH7 D5')\n",
    "\n",
    "# assign JHH7 dataframes\n",
    "JHH7_A5_df = pd.read_csv(JHH7_A5)\n",
    "JHH7_B5_pickup_df = pd.read_csv(JHH7_B5_pickup)\n",
    "JHH7_C5_df = pd.read_csv(JHH7_C5)\n",
    "JHH7_D5_df = pd.read_csv(JHH7_D5)\n",
    "\n",
    "# calculate JHH7 mean velocities\n",
    "JHH7_A5_total_mean = np.mean(JHH7_A5_df.TRACK_MEAN_SPEED)\n",
    "JHH7_B5_pickup_total_mean = np.mean(JHH7_B5_pickup_df.TRACK_MEAN_SPEED)\n",
    "JHH7_C5_total_mean = np.mean(JHH7_C5_df.TRACK_MEAN_SPEED)\n",
    "JHH7_D5_total_mean = np.mean(JHH7_D5_df.TRACK_MEAN_SPEED)\n",
    "\n",
    "# print JHH7 mean velocities\n",
    "print('\\ntotal mean velocities \\n')\n",
    "print('JHH7_A5 : ' + str(JHH7_A5_total_mean))\n",
    "print('JHH7_B5_pickup : ' + str(JHH7_B5_pickup_total_mean))\n",
    "print('JHH7_C5 : ' + str(JHH7_C5_total_mean))\n",
    "print('JHH7_D5 : ' + str(JHH7_D5_total_mean))"
   ]
  },
  {
   "cell_type": "code",
   "execution_count": 7,
   "id": "b996c647",
   "metadata": {},
   "outputs": [
    {
     "name": "stdout",
     "output_type": "stream",
     "text": [
      "\n",
      "total mean velocities \n",
      "\n",
      "Kami41_A6 : 10.380784577723379\n",
      "Kami41_B6_pickup : 9.513135135135135\n",
      "Kami41_C6 : 8.301956310679612\n",
      "Kami41_D6 : 9.130353535353535\n"
     ]
    }
   ],
   "source": [
    "# call Kami41 cell line\n",
    "Kami41_A6 = get_src(target_cell_line='Kami41', target_sub_series='Kami41 A6')\n",
    "Kami41_B6_pickup = get_src(target_cell_line='Kami41', target_sub_series='Kami41 B6 pickup')\n",
    "Kami41_C6 = get_src(target_cell_line='Kami41', target_sub_series='Kami41 C6')\n",
    "Kami41_D6 = get_src(target_cell_line='Kami41', target_sub_series='Kami41 D6')\n",
    "\n",
    "# assign Kami41 dataframes\n",
    "Kami41_A6_df = pd.read_csv(Kami41_A6)\n",
    "Kami41_B6_pickup_df = pd.read_csv(Kami41_B6_pickup)\n",
    "Kami41_C6_df = pd.read_csv(Kami41_C6)\n",
    "Kami41_D6_df = pd.read_csv(Kami41_D6)\n",
    "\n",
    "# calculate Kami41 mean velocities\n",
    "Kami41_A6_total_mean = np.mean(Kami41_A6_df.TRACK_MEAN_SPEED)\n",
    "Kami41_B6_pickup_total_mean = np.mean(Kami41_B6_pickup_df.TRACK_MEAN_SPEED)\n",
    "Kami41_C6_total_mean = np.mean(Kami41_C6_df.TRACK_MEAN_SPEED)\n",
    "Kami41_D6_total_mean = np.mean(Kami41_D6_df.TRACK_MEAN_SPEED)\n",
    "\n",
    "# print Kami41 mean velocities\n",
    "print('\\ntotal mean velocities \\n')\n",
    "print('Kami41_A6 : ' + str(Kami41_A6_total_mean))\n",
    "print('Kami41_B6_pickup : ' + str(Kami41_B6_pickup_total_mean))\n",
    "print('Kami41_C6 : ' + str(Kami41_C6_total_mean))\n",
    "print('Kami41_D6 : ' + str(Kami41_D6_total_mean))"
   ]
  },
  {
   "cell_type": "code",
   "execution_count": 8,
   "id": "57dd9f32",
   "metadata": {},
   "outputs": [
    {
     "name": "stdout",
     "output_type": "stream",
     "text": [
      "\n",
      "total mean velocities \n",
      "\n",
      "PRF5_A3 : 7.264745819397993\n",
      "PRF5_B3_pickup : 7.562833333333332\n",
      "PRF5_C3 : 6.101604651162791\n",
      "PRF5_D3 : 6.855442307692308\n"
     ]
    }
   ],
   "source": [
    "# call PRF5 cell line\n",
    "PRF5_A3 = get_src(target_cell_line='PRF5', target_sub_series='PRF5 A3')\n",
    "PRF5_B3_pickup = get_src(target_cell_line='PRF5', target_sub_series='PRF5 B3 pickup')\n",
    "PRF5_C3 = get_src(target_cell_line='PRF5', target_sub_series='PRF5 C3')\n",
    "PRF5_D3 = get_src(target_cell_line='PRF5', target_sub_series='PRF5 D3')\n",
    "\n",
    "# assign PRF5 dataframes\n",
    "PRF5_A3_df = pd.read_csv(PRF5_A3)\n",
    "PRF5_B3_pickup_df = pd.read_csv(PRF5_B3_pickup)\n",
    "PRF5_C3_df = pd.read_csv(PRF5_C3)\n",
    "PRF5_D3_df = pd.read_csv(PRF5_D3)\n",
    "\n",
    "# calculate PRF5 mean velocities\n",
    "PRF5_A3_total_mean = np.mean(PRF5_A3_df.TRACK_MEAN_SPEED)\n",
    "PRF5_B3_pickup_total_mean = np.mean(PRF5_B3_pickup_df.TRACK_MEAN_SPEED)\n",
    "PRF5_C3_total_mean = np.mean(PRF5_C3_df.TRACK_MEAN_SPEED)\n",
    "PRF5_D3_total_mean = np.mean(PRF5_D3_df.TRACK_MEAN_SPEED)\n",
    "\n",
    "# print PRF5 mean velocities\n",
    "print('\\ntotal mean velocities \\n')\n",
    "print('PRF5_A3 : ' + str(PRF5_A3_total_mean))\n",
    "print('PRF5_B3_pickup : ' + str(PRF5_B3_pickup_total_mean))\n",
    "print('PRF5_C3 : ' + str(PRF5_C3_total_mean))\n",
    "print('PRF5_D3 : ' + str(PRF5_D3_total_mean))"
   ]
  },
  {
   "cell_type": "code",
   "execution_count": 10,
   "id": "401dd381",
   "metadata": {},
   "outputs": [
    {
     "name": "stdout",
     "output_type": "stream",
     "text": [
      "\n",
      "total mean velocities \n",
      "\n",
      "Huh7_A3 : 7.748792207792208\n",
      "Huh7_B3_pickup : 7.466068656716417\n",
      "Huh7_C3 : 6.901012145748988\n",
      "Huh7_D3 : 7.541751724137931\n"
     ]
    }
   ],
   "source": [
    "# call Huh7 cell line\n",
    "Huh7_A4 = get_src(target_cell_line='Huh7', target_sub_series='Huh7 A4')\n",
    "Huh7_B4_pickup = get_src(target_cell_line='Huh7', target_sub_series='Huh7 B4 pickup')\n",
    "Huh7_C4 = get_src(target_cell_line='Huh7', target_sub_series='Huh7 C4')\n",
    "Huh7_D4 = get_src(target_cell_line='Huh7', target_sub_series='Huh7 D4')\n",
    "\n",
    "# assign Huh7 dataframes\n",
    "Huh7_A4_df = pd.read_csv(Huh7_A4)\n",
    "Huh7_B4_pickup_df = pd.read_csv(Huh7_B4_pickup)\n",
    "Huh7_C4_df = pd.read_csv(Huh7_C4)\n",
    "Huh7_D4_df = pd.read_csv(Huh7_D4)\n",
    "\n",
    "# calculate Huh7 mean velocities\n",
    "Huh7_A4_total_mean = np.mean(Huh7_A4_df.TRACK_MEAN_SPEED)\n",
    "Huh7_B4_pickup_total_mean = np.mean(Huh7_B4_pickup_df.TRACK_MEAN_SPEED)\n",
    "Huh7_C4_total_mean = np.mean(Huh7_C4_df.TRACK_MEAN_SPEED)\n",
    "Huh7_D4_total_mean = np.mean(Huh7_D4_df.TRACK_MEAN_SPEED)\n",
    "\n",
    "# print PRF5 mean velocities\n",
    "print('\\ntotal mean velocities \\n')\n",
    "print('Huh7_A3 : ' + str(Huh7_A4_total_mean))\n",
    "print('Huh7_B3_pickup : ' + str(Huh7_B4_pickup_total_mean))\n",
    "print('Huh7_C3 : ' + str(Huh7_C4_total_mean))\n",
    "print('Huh7_D3 : ' + str(Huh7_D4_total_mean))"
   ]
  },
  {
   "cell_type": "code",
   "execution_count": 11,
   "id": "21774a92",
   "metadata": {},
   "outputs": [
    {
     "data": {
      "text/plain": [
       "<matplotlib.collections.PathCollection at 0x7ff19d966e50>"
      ]
     },
     "execution_count": 11,
     "metadata": {},
     "output_type": "execute_result"
    },
    {
     "data": {
      "image/png": "[encoded data removed]",
      "text/plain": [
       "<Figure size 720x360 with 1 Axes>"
      ]
     },
     "metadata": {
      "needs_background": "light"
     },
     "output_type": "display_data"
    }
   ],
   "source": [
    "# create lists of cell image series and mean velocities to plot\n",
    "cell_list = ['JHH6_A1', 'JHH6_B1', 'JHH6_C1 Pickup', 'JHH6_D1',\n",
    "             'JHH4_A2', 'JHH4_B2', 'JHH4_C2_Pickup', 'JHH4_D2', \n",
    "             'PRF5 A3', 'PRF5 B3 pickup', 'PRF5 C3', 'PRF5 D3',\n",
    "             'Huh7 A4', 'Huh7 B4 pickup', 'Huh7 C4', 'Huh7 D4'\n",
    "             'JHH7_A5', 'JHH7_B5_pickup', 'JHH7_C5', 'JHH7_D5',\n",
    "             'Kami41 A6', 'Kami41 B6 pickup', 'Kami41 C6', 'Kami41 D6']\n",
    "\n",
    "velocity_list = [JHH6_A1_total_mean, JHH6_B1_total_mean, JHH6_C1_Pickup_total_mean, JHH6_D1_total_mean,\n",
    "                 JHH4_A2_total_mean, JHH4_B2_total_mean, JHH4_C2_Pickup_total_mean, JHH4_D2_total_mean,\n",
    "                 PRF5_A3_total_mean, PRF5_B3_pickup_total_mean, PRF5_C3_total_mean, PRF5_D3_total_mean,\n",
    "                 Huh7_A4_total_mean, Huh7_B4_pickup_total_mean, Huh7_C4_total_mean, Huh7_D4_total_mean,\n",
    "                 JHH7_A5_total_mean, JHH7_B5_pickup_total_mean, JHH7_C5_total_mean, JHH7_D5_total_mean,\n",
    "                 Kami41_A6_total_mean, Kami41_B6_pickup_total_mean, Kami41_C6_total_mean, Kami41_D6_total_mean]\n",
    "\n",
    "combined_df = pd.DataFrame(list(zip(cell_list, velocity_list)), columns = ['cell_line', 'total_velocity'])\n",
    "# print(combined_df.cell_line)\n",
    "\n",
    "\n",
    "# plot combined df\n",
    "x = combined_df.cell_line\n",
    "y = combined_df.total_velocity\n",
    "plt.xticks(rotation = 65)\n",
    "axes = plt.gca()\n",
    "axes.set_ylim([0, 15])\n",
    "plt.title('Aggregate mean speed')\n",
    "plt.ylabel('pixels per track link')\n",
    "plt.xlabel('cell line')\n",
    "plt.rcParams[\"figure.figsize\"] = (10,5)\n",
    "plt.scatter(x, y)"
   ]
  },
  {
   "cell_type": "code",
   "execution_count": null,
   "id": "0e800b6f",
   "metadata": {},
   "outputs": [],
   "source": []
  }
 ],
 "metadata": {
  "kernelspec": {
   "display_name": "Python 3 (ipykernel)",
   "language": "python",
   "name": "python3"
  },
  "language_info": {
   "codemirror_mode": {
    "name": "ipython",
    "version": 3
   },
   "file_extension": ".py",
   "mimetype": "text/x-python",
   "name": "python",
   "nbconvert_exporter": "python",
   "pygments_lexer": "ipython3",
   "version": "3.9.6"
  }
 },
 "nbformat": 4,
 "nbformat_minor": 5
}
